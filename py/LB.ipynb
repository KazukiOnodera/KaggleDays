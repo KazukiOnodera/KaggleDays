{
 "cells": [
  {
   "cell_type": "code",
   "execution_count": 1,
   "metadata": {},
   "outputs": [],
   "source": [
    "import pandas as pd\n",
    "from matplotlib import pyplot as plt\n",
    "from ipywidgets import interact\n",
    "%matplotlib inline"
   ]
  },
  {
   "cell_type": "code",
   "execution_count": 2,
   "metadata": {},
   "outputs": [],
   "source": [
    "FNAME = 'kaggledays-publicleaderboard.csv'\n",
    "TEAMNAME = 'RedditNoobs'"
   ]
  },
  {
   "cell_type": "code",
   "execution_count": 3,
   "metadata": {},
   "outputs": [
    {
     "name": "stderr",
     "output_type": "stream",
     "text": [
      "/Users/kazuki.onodera/anaconda3/lib/python3.6/site-packages/ipykernel_launcher.py:13: SettingWithCopyWarning: \n",
      "A value is trying to be set on a copy of a slice from a DataFrame\n",
      "\n",
      "See the caveats in the documentation: http://pandas.pydata.org/pandas-docs/stable/indexing.html#indexing-view-versus-copy\n",
      "  del sys.path[0]\n"
     ]
    }
   ],
   "source": [
    "\n",
    "\n",
    "df = pd.read_csv(FNAME, parse_dates=['SubmissionDate'])\n",
    "df.SubmissionDate += pd.offsets.Hour(1)\n",
    "\n",
    "dates = pd.date_range('2018-05-19 08:00:00', '2018-05-19 18:00:00',\n",
    "                      freq='min')\n",
    "\n",
    "d_min, d_max = min(dates), max(dates)\n",
    "\n",
    "df2 = df[df.SubmissionDate.between(d_min, d_max)]\n",
    "\n",
    "df2.sort_values('SubmissionDate', ascending=False, inplace=True)\n",
    "s_min, s_max = df2.Score.min(), df2.Score.max()\n"
   ]
  },
  {
   "cell_type": "code",
   "execution_count": 4,
   "metadata": {},
   "outputs": [
    {
     "data": {
      "application/vnd.jupyter.widget-view+json": {
       "model_id": "2130cfe96efe44e49a5b0ade3275ba64",
       "version_major": 2,
       "version_minor": 0
      },
      "text/html": [
       "<p>Failed to display Jupyter Widget of type <code>interactive</code>.</p>\n",
       "<p>\n",
       "  If you're reading this message in the Jupyter Notebook or JupyterLab Notebook, it may mean\n",
       "  that the widgets JavaScript is still loading. If this message persists, it\n",
       "  likely means that the widgets JavaScript library is either not installed or\n",
       "  not enabled. See the <a href=\"https://ipywidgets.readthedocs.io/en/stable/user_install.html\">Jupyter\n",
       "  Widgets Documentation</a> for setup instructions.\n",
       "</p>\n",
       "<p>\n",
       "  If you're reading this message in another frontend (for example, a static\n",
       "  rendering on GitHub or <a href=\"https://nbviewer.jupyter.org/\">NBViewer</a>),\n",
       "  it may mean that your frontend doesn't currently support widgets.\n",
       "</p>\n"
      ],
      "text/plain": [
       "interactive(children=(IntSlider(value=302, description='n', max=600, min=5), Output()), _dom_classes=('widget-interact',))"
      ]
     },
     "metadata": {},
     "output_type": "display_data"
    }
   ],
   "source": [
    "@interact(n=(5, 600))\n",
    "def plot_LB(n):\n",
    "    df3 = df2[df2.SubmissionDate<dates[n]].drop_duplicates('TeamId', keep='first')\n",
    "    df3.Score.plot(kind='hist', bins=50)\n",
    "    plt.xlim(s_min, s_max)\n",
    "    plt.ylim(0, 15)\n",
    "    plt.title(dates[n], fontsize=30)\n",
    "    try:\n",
    "        plt.annotate('me', xy=(df3.loc[df3.TeamName==TEAMNAME, 'Score'].values[0], 0),\n",
    "                     arrowprops=dict(shrink=0.1))\n",
    "    except:\n",
    "        pass"
   ]
  },
  {
   "cell_type": "code",
   "execution_count": null,
   "metadata": {},
   "outputs": [],
   "source": []
  }
 ],
 "metadata": {
  "kernelspec": {
   "display_name": "Python 3",
   "language": "python",
   "name": "python3"
  },
  "language_info": {
   "codemirror_mode": {
    "name": "ipython",
    "version": 3
   },
   "file_extension": ".py",
   "mimetype": "text/x-python",
   "name": "python",
   "nbconvert_exporter": "python",
   "pygments_lexer": "ipython3",
   "version": "3.6.4"
  }
 },
 "nbformat": 4,
 "nbformat_minor": 2
}
